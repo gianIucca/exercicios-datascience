{
 "cells": [
  {
   "cell_type": "markdown",
   "metadata": {
    "id": "A5WuZJ85Lt0k"
   },
   "source": [
    "#Limites da Regressão linear\n",
    "\n",
    "Uma das áreas em que a ciência de dados pode ser aplicada é na saúde, e um tema que está em foco é a pandemia do COVID-19. \n",
    "  \n",
    "Uma das formas que se pode utilizar esses dados é para entender óbitos através do tempo como uma forma de prever a tendência futura e auxiliar em políticas públicas, por exemplo.\n",
    "\n",
    "Sabendo de tudo isso, o epidemiologista chefe do Brasil te pediu pra analisar os dados de óbitos nacionais da semana 25 a 35 e quer saber quando que o número de mortes vai ser inferior a 100 óbitos por semana para saber quando toma a decisão de abrir as completamente as cidades.\n",
    "\n",
    "Como essa decisão é importante, ele precisa de uma análise dos dados e como conhecedor da área da saúde, ele te deu uma **dica**: _uma regressão linear pode funcionar, mas epidemias tem comportamentos exponenciais do tipo A*exp(b*t)._\n",
    "\n",
    "Então você deve:\n",
    "- plotar os dados de semana por óbito e semana por ln(obito) e observar se tem alguma diferença entre os gráficos. \n",
    "-Fazer uma regressão de semana por obito e semana por ln(obito)\n",
    "-Avaliar o melhor modelo através das métricas de: R², erro quadrático médio, gráficos dos resíduos, normalidade dos resíduos (teste de Shapiro) e homocedasticidade (teste de Breusch-Pagan)\n",
    "-Você deve  escolher o melhor modelo que vai responder a pergunta do epidemiologista junto com uma conclusão"
   ]
  },
  {
   "cell_type": "code",
   "execution_count": 1,
   "metadata": {
    "colab": {
     "base_uri": "https://localhost:8080/"
    },
    "id": "XM45UcaML-Av",
    "outputId": "651864c8-e008-4be8-cbe2-57858386c19c"
   },
   "outputs": [],
   "source": [
    "# aqui vai as bibliotecas que você vai usar\n",
    "import numpy as np\n",
    "import pandas as pd\n",
    "import matplotlib.pyplot as plt\n",
    "import seaborn as sns\n",
    "import scipy as sp\n",
    "import statsmodels.api as sm"
   ]
  },
  {
   "cell_type": "markdown",
   "metadata": {
    "id": "G-n8SBSwML5A"
   },
   "source": [
    "## 1) Importação dos dados\n",
    "\n",
    "\n",
    "É com esse dataset que vamos trabalhar e ele foi retirado do https://covid.saude.gov.br/ . Ele corresponde ao numero de óbitos por semana da semana 25 até a semana 35 de 2021."
   ]
  },
  {
   "cell_type": "code",
   "execution_count": 2,
   "metadata": {
    "id": "HHreGPtHMXcX"
   },
   "outputs": [],
   "source": [
    "semana = np.arange(25,36)\n",
    "obitos = np.array([11935, 10852, 9306, 8373, 8182, 6922, 6382,6032,5421,4801,4352])\n",
    "df=pd.DataFrame({'Semana':semana, 'Obitos':obitos}) #coloquei num dataframe pra ficar mais facil de plotar os dados\n",
    "semana=semana.reshape(-1, 1) #coloquei aqui pra poder treinar o modelo mais facilmente"
   ]
  },
  {
   "cell_type": "markdown",
   "metadata": {
    "id": "3B_oSjGYr3Wf"
   },
   "source": [
    "## 2) Análise gráfica\n",
    "\n",
    "Aqui você pode plotar semana por óbitos em um gráfico de pontos"
   ]
  },
  {
   "cell_type": "markdown",
   "metadata": {
    "id": "Jm72SHBuNGzA"
   },
   "source": [
    "### 2.1) Visualização dos dados - tendência linear"
   ]
  },
  {
   "cell_type": "code",
   "execution_count": 3,
   "metadata": {},
   "outputs": [
    {
     "data": {
      "text/plain": [
       "<AxesSubplot:xlabel='Semana', ylabel='Obitos'>"
      ]
     },
     "execution_count": 3,
     "metadata": {},
     "output_type": "execute_result"
    },
    {
     "data": {
      "image/png": "[encoded data removed]",
      "text/plain": [
       "<Figure size 432x288 with 1 Axes>"
      ]
     },
     "metadata": {
      "needs_background": "light"
     },
     "output_type": "display_data"
    }
   ],
   "source": [
    "sns.scatterplot(data=df, x='Semana', y='Obitos')"
   ]
  },
  {
   "cell_type": "markdown",
   "metadata": {
    "id": "VWPIUMbtNMD7"
   },
   "source": [
    "### 2.2) Visualização dos dados - tendência do logaritmos dos óbitos\n",
    "\n"
   ]
  },
  {
   "cell_type": "markdown",
   "metadata": {
    "id": "LeR-BruBibu1"
   },
   "source": [
    "Podemos fazer uma coisa quando se tem poucos dados: **não vamos fazer o split dos dados** mas lembre-se de olhar bem as estatísticas e métricas para não ter overfitting!"
   ]
  },
  {
   "cell_type": "code",
   "execution_count": 4,
   "metadata": {},
   "outputs": [
    {
     "data": {
      "text/plain": [
       "<AxesSubplot:xlabel='Semana', ylabel='Obitos_exp'>"
      ]
     },
     "execution_count": 4,
     "metadata": {},
     "output_type": "execute_result"
    },
    {
     "data": {
      "image/png": "[encoded data removed]",
      "text/plain": [
       "<Figure size 432x288 with 1 Axes>"
      ]
     },
     "metadata": {
      "needs_background": "light"
     },
     "output_type": "display_data"
    }
   ],
   "source": [
    "df['Obitos_exp'] = np.log(df['Obitos'])\n",
    "sns.scatterplot(data=df,x='Semana', y='Obitos_exp')"
   ]
  },
  {
   "cell_type": "markdown",
   "metadata": {
    "id": "uskjLLpcsZnV"
   },
   "source": [
    "## 3) Treinamento do modelo linear"
   ]
  },
  {
   "cell_type": "markdown",
   "metadata": {
    "id": "amSmQK2INNuq"
   },
   "source": [
    "###3.1) Regressão linear"
   ]
  },
  {
   "cell_type": "code",
   "execution_count": 5,
   "metadata": {},
   "outputs": [
    {
     "name": "stdout",
     "output_type": "stream",
     "text": [
      "                            OLS Regression Results                            \n",
      "==============================================================================\n",
      "Dep. Variable:                 Obitos   R-squared:                       0.965\n",
      "Model:                            OLS   Adj. R-squared:                  0.962\n",
      "Method:                 Least Squares   F-statistic:                     251.6\n",
      "Date:                Tue, 08 Feb 2022   Prob (F-statistic):           6.94e-08\n",
      "Time:                        13:09:16   Log-Likelihood:                -82.472\n",
      "No. Observations:                  11   AIC:                             168.9\n",
      "Df Residuals:                       9   BIC:                             169.7\n",
      "Df Model:                           1                                         \n",
      "Covariance Type:            nonrobust                                         \n",
      "==============================================================================\n",
      "                 coef    std err          t      P>|t|      [0.025      0.975]\n",
      "------------------------------------------------------------------------------\n",
      "const       2.939e+04   1387.603     21.183      0.000    2.63e+04    3.25e+04\n",
      "x1          -729.6000     45.999    -15.861      0.000    -833.656    -625.544\n",
      "==============================================================================\n",
      "Omnibus:                        0.793   Durbin-Watson:                   0.806\n",
      "Prob(Omnibus):                  0.673   Jarque-Bera (JB):                0.623\n",
      "Skew:                           0.179   Prob(JB):                        0.732\n",
      "Kurtosis:                       1.890   Cond. No.                         288.\n",
      "==============================================================================\n",
      "\n",
      "Notes:\n",
      "[1] Standard Errors assume that the covariance matrix of the errors is correctly specified.\n"
     ]
    },
    {
     "name": "stderr",
     "output_type": "stream",
     "text": [
      "C:\\Users\\Pc\\anaconda3\\lib\\site-packages\\scipy\\stats\\stats.py:1603: UserWarning: kurtosistest only valid for n>=20 ... continuing anyway, n=11\n",
      "  warnings.warn(\"kurtosistest only valid for n>=20 ... continuing \"\n"
     ]
    }
   ],
   "source": [
    "X_linear = semana\n",
    "X_linear = sm.add_constant(X_linear)\n",
    "y_linear = df['Obitos']\n",
    "modelo_linear = sm.OLS(y_linear, X_linear)\n",
    "resultado_linear = modelo_linear.fit()\n",
    "print(resultado_linear.summary())"
   ]
  },
  {
   "cell_type": "markdown",
   "metadata": {
    "id": "ufcSdf_awZd4"
   },
   "source": [
    "### 3.2) Gráfico dos resíduos da regressão"
   ]
  },
  {
   "cell_type": "code",
   "execution_count": 6,
   "metadata": {},
   "outputs": [
    {
     "data": {
      "text/plain": [
       "<AxesSubplot:>"
      ]
     },
     "execution_count": 6,
     "metadata": {},
     "output_type": "execute_result"
    },
    {
     "data": {
      "image/png": "[encoded data removed]",
      "text/plain": [
       "<Figure size 432x288 with 1 Axes>"
      ]
     },
     "metadata": {
      "needs_background": "light"
     },
     "output_type": "display_data"
    }
   ],
   "source": [
    "predicao_linear = resultado_linear.predict(X_linear)\n",
    "residuos_linear = resultado_linear.resid \n",
    "sns.residplot(y=residuos_linear, x=predicao_linear)"
   ]
  },
  {
   "cell_type": "markdown",
   "metadata": {
    "id": "Pw0cKndXw65v"
   },
   "source": [
    "### 3.3) Métricas\n",
    "- RMSE\n",
    "- Teste de normalidade dos resíduos\n",
    "- Teste de homocedasticidade dos resíduos\n"
   ]
  },
  {
   "cell_type": "code",
   "execution_count": 10,
   "metadata": {},
   "outputs": [
    {
     "name": "stdout",
     "output_type": "stream",
     "text": [
      "RMSE: 436.38104510728357\n",
      "Statistics=0.948, p=0.623\n"
     ]
    },
    {
     "data": {
      "text/plain": [
       "(3.1565450595054574,\n",
       " 0.07562307126980328,\n",
       " 3.6219887474432135,\n",
       " 0.08943609074405841)"
      ]
     },
     "execution_count": 10,
     "metadata": {},
     "output_type": "execute_result"
    }
   ],
   "source": [
    "print(f'RMSE: {sm.tools.eval_measures.rmse(y_linear, predicao_linear)}')\n",
    "\n",
    "stat, p = sp.stats.shapiro(residuos_linear)\n",
    "print('Statistics=%.3f, p=%.3f' % (stat,p))\n",
    "\n",
    "sm.stats.het_breuschpagan(residuos_linear, resultado_linear.model.exog)"
   ]
  },
  {
   "cell_type": "markdown",
   "metadata": {
    "id": "tOzbGHhTtYiZ"
   },
   "source": [
    "## 4) Treinamento do modelo de ln(óbitos)"
   ]
  },
  {
   "cell_type": "markdown",
   "metadata": {
    "id": "Tu6BpqL5pLAS"
   },
   "source": [
    "### 4.1)Regressão linear de Ln(y) \n",
    "_Observe que se você a curva segue y= a*exp(b*x), a equação fica ln(y) = ln(a)+b*x se colocar ln() dos dois lados_"
   ]
  },
  {
   "cell_type": "code",
   "execution_count": 11,
   "metadata": {},
   "outputs": [
    {
     "name": "stdout",
     "output_type": "stream",
     "text": [
      "                            OLS Regression Results                            \n",
      "==============================================================================\n",
      "Dep. Variable:             Obitos_exp   R-squared:                       0.993\n",
      "Model:                            OLS   Adj. R-squared:                  0.993\n",
      "Method:                 Least Squares   F-statistic:                     1335.\n",
      "Date:                Tue, 08 Feb 2022   Prob (F-statistic):           4.27e-11\n",
      "Time:                        13:14:40   Log-Likelihood:                 24.721\n",
      "No. Observations:                  11   AIC:                            -45.44\n",
      "Df Residuals:                       9   BIC:                            -44.65\n",
      "Df Model:                           1                                         \n",
      "Covariance Type:            nonrobust                                         \n",
      "==============================================================================\n",
      "                 coef    std err          t      P>|t|      [0.025      0.975]\n",
      "------------------------------------------------------------------------------\n",
      "const         11.8288      0.081    145.479      0.000      11.645      12.013\n",
      "x1            -0.0985      0.003    -36.533      0.000      -0.105      -0.092\n",
      "==============================================================================\n",
      "Omnibus:                        2.723   Durbin-Watson:                   2.251\n",
      "Prob(Omnibus):                  0.256   Jarque-Bera (JB):                1.003\n",
      "Skew:                          -0.170   Prob(JB):                        0.605\n",
      "Kurtosis:                       1.560   Cond. No.                         288.\n",
      "==============================================================================\n",
      "\n",
      "Notes:\n",
      "[1] Standard Errors assume that the covariance matrix of the errors is correctly specified.\n"
     ]
    },
    {
     "name": "stderr",
     "output_type": "stream",
     "text": [
      "C:\\Users\\Pc\\anaconda3\\lib\\site-packages\\scipy\\stats\\stats.py:1603: UserWarning: kurtosistest only valid for n>=20 ... continuing anyway, n=11\n",
      "  warnings.warn(\"kurtosistest only valid for n>=20 ... continuing \"\n"
     ]
    }
   ],
   "source": [
    "X_exp = semana \n",
    "X_exp = sm.add_constant(X_exp)\n",
    "y_exp = df['Obitos_exp']\n",
    "modelo_exp = sm.OLS(y_exp, X_exp)\n",
    "resultado_exp = modelo_exp.fit()\n",
    "print(resultado_exp.summary())"
   ]
  },
  {
   "cell_type": "markdown",
   "metadata": {
    "id": "V5-pMu3yxYL7"
   },
   "source": [
    "### 4.2) Gráfico dos resíduos da regressao de ln(óbitos)"
   ]
  },
  {
   "cell_type": "code",
   "execution_count": 12,
   "metadata": {},
   "outputs": [
    {
     "data": {
      "text/plain": [
       "<AxesSubplot:ylabel='Obitos_exp'>"
      ]
     },
     "execution_count": 12,
     "metadata": {},
     "output_type": "execute_result"
    },
    {
     "data": {
      "image/png": "[encoded data removed]",
      "text/plain": [
       "<Figure size 432x288 with 1 Axes>"
      ]
     },
     "metadata": {
      "needs_background": "light"
     },
     "output_type": "display_data"
    }
   ],
   "source": [
    "predicao_exp = resultado_exp.predict(X_exp)\n",
    "residuos_exp = np.exp(predicao_exp) - np.exp(np.transpose(y_exp))\n",
    "sns.residplot(y=residuos_exp, x=np.exp(predicao_exp))"
   ]
  },
  {
   "cell_type": "markdown",
   "metadata": {
    "id": "wcVWSpDNxgxm"
   },
   "source": [
    "### 4.3) Métricas\n",
    "- RMSE\n",
    "- Teste de normalidade dos resíduos\n",
    "- Teste de homocedasticidade dos resíduos"
   ]
  },
  {
   "cell_type": "code",
   "execution_count": 15,
   "metadata": {},
   "outputs": [
    {
     "name": "stdout",
     "output_type": "stream",
     "text": [
      "RMSE: 214.07239449511812\n",
      "Statistics=0.928, p=0.388\n"
     ]
    },
    {
     "data": {
      "text/plain": [
       "(6.794328498722505,\n",
       " 0.009144791323038422,\n",
       " 14.539641641038349,\n",
       " 0.004133495125161037)"
      ]
     },
     "execution_count": 15,
     "metadata": {},
     "output_type": "execute_result"
    }
   ],
   "source": [
    "print(f'RMSE: {sm.tools.eval_measures.rmse(np.exp(y_exp), np.exp(predicao_exp))}')\n",
    "\n",
    "stat, p = sp.stats.shapiro(residuos_exp)\n",
    "print('Statistics=%.3f, p=%.3f' % (stat,p))\n",
    "\n",
    "sm.stats.het_breuschpagan(residuos_exp, resultado_exp.model.exog)"
   ]
  },
  {
   "cell_type": "markdown",
   "metadata": {
    "id": "1VTlWkrLx6ni"
   },
   "source": [
    "## 5) Gráfico de comparação entre os dois modelos\n",
    "\n",
    "Aqui você deve colocar os pontos do dataset e as linhas dos dois modelos e fazer uma comparação visual entre os dois"
   ]
  },
  {
   "cell_type": "code",
   "execution_count": 16,
   "metadata": {},
   "outputs": [
    {
     "data": {
      "text/plain": [
       "[<matplotlib.lines.Line2D at 0x1d965dc7430>,\n",
       " <matplotlib.lines.Line2D at 0x1d965dc7340>,\n",
       " <matplotlib.lines.Line2D at 0x1d965dc7460>]"
      ]
     },
     "execution_count": 16,
     "metadata": {},
     "output_type": "execute_result"
    },
    {
     "data": {
      "image/png": "[encoded data removed]",
      "text/plain": [
       "<Figure size 432x288 with 1 Axes>"
      ]
     },
     "metadata": {
      "needs_background": "light"
     },
     "output_type": "display_data"
    }
   ],
   "source": [
    "plt.plot(df['Semana'], predicao_linear, 'b', df['Semana'], np.exp(predicao_exp), 'r', df['Semana'], df['Obitos'], 'go')"
   ]
  },
  {
   "cell_type": "markdown",
   "metadata": {
    "id": "dvanInxSyKsF"
   },
   "source": [
    "## 6) Conclusão e conselho ao epidemiologista\n",
    "\n",
    "Qual dos dois modelos é melhor? Porque? Quando que as cidades devem abrir?"
   ]
  },
  {
   "cell_type": "markdown",
   "metadata": {},
   "source": [
    "O R² do linear é 0.965 e do modelo exponencial é de 0.993. O RMSE linear é 436.38 e do exponencial 214.07. Apesar dos dois modelos terem resíduos normais, apenas o exponencial tem homocedasticidade.\n",
    "\n",
    "O modelo exponencial tem melhores métricas em comparação ao modelo linear e contextualizando com os dados, o modelo exponencial ajustado tende a zero no tempo infinito e o linear não, perdendo o sentido físico do dado.\n",
    "\n",
    "Respondendo ao epidemiologista, ln(obitos = 100)= -0.0985*semanas + 11.83 e isolando as semanas, temos que a semana com menos de 100 mortes será a partir da semana 73 ou seja, daqui a aproximadamente 9 meses.\n"
   ]
  }
 ],
 "metadata": {
  "colab": {
   "collapsed_sections": [],
   "name": "[DEx] 5- Limites da Regressão Linear.ipynb",
   "provenance": []
  },
  "kernelspec": {
   "display_name": "Python 3",
   "language": "python",
   "name": "python3"
  },
  "language_info": {
   "codemirror_mode": {
    "name": "ipython",
    "version": 3
   },
   "file_extension": ".py",
   "mimetype": "text/x-python",
   "name": "python",
   "nbconvert_exporter": "python",
   "pygments_lexer": "ipython3",
   "version": "3.8.8"
  }
 },
 "nbformat": 4,
 "nbformat_minor": 1
}
